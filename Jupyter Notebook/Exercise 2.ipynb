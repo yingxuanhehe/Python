{
 "cells": [
  {
   "cell_type": "markdown",
   "metadata": {},
   "source": [
    "# Problem 2\n",
    "\n",
    "## Check Summer Olympic 2016 medal tally : https://en.wikipedia.org/wiki/2016_Summer_Olympics_medal_table\n",
    "\n",
    "a) Import the Wikipedia page in Jupyter Notebook (check M1 DataAcquisition.ipynb for hints about this)."
   ]
  },
  {
   "cell_type": "code",
   "execution_count": 2,
   "metadata": {},
   "outputs": [],
   "source": [
    "import numpy as np\n",
    "import pandas as pd"
   ]
  },
  {
   "cell_type": "code",
   "execution_count": 3,
   "metadata": {},
   "outputs": [],
   "source": [
    "html_data = pd.read_html('https://en.wikipedia.org/wiki/2016_Summer_Olympics_medal_table')"
   ]
  },
  {
   "cell_type": "markdown",
   "metadata": {},
   "source": [
    "b) How many tables are in this Wikipedia page? Check the “len” of the imported data/page to find this out."
   ]
  },
  {
   "cell_type": "code",
   "execution_count": 4,
   "metadata": {},
   "outputs": [
    {
     "name": "stdout",
     "output_type": "stream",
     "text": [
      "HTML tables: 6\n"
     ]
    }
   ],
   "source": [
    "print(\"HTML tables:\", len(html_data))"
   ]
  },
  {
   "cell_type": "markdown",
   "metadata": {},
   "source": [
    "c) Which one is the actual “2016 Summer Olympics medal table”? Explore all tables in the data to know."
   ]
  },
  {
   "cell_type": "code",
   "execution_count": 6,
   "metadata": {},
   "outputs": [
    {
     "data": {
      "text/html": [
       "<div>\n",
       "<style scoped>\n",
       "    .dataframe tbody tr th:only-of-type {\n",
       "        vertical-align: middle;\n",
       "    }\n",
       "\n",
       "    .dataframe tbody tr th {\n",
       "        vertical-align: top;\n",
       "    }\n",
       "\n",
       "    .dataframe thead th {\n",
       "        text-align: right;\n",
       "    }\n",
       "</style>\n",
       "<table border=\"1\" class=\"dataframe\">\n",
       "  <thead>\n",
       "    <tr style=\"text-align: right;\">\n",
       "      <th></th>\n",
       "      <th>0</th>\n",
       "    </tr>\n",
       "  </thead>\n",
       "  <tbody>\n",
       "    <tr>\n",
       "      <th>0</th>\n",
       "      <td>Part of a series on</td>\n",
       "    </tr>\n",
       "    <tr>\n",
       "      <th>1</th>\n",
       "      <td>2016 Summer Olympics Bid process (bid details)...</td>\n",
       "    </tr>\n",
       "  </tbody>\n",
       "</table>\n",
       "</div>"
      ],
      "text/plain": [
       "                                                   0\n",
       "0                                Part of a series on\n",
       "1  2016 Summer Olympics Bid process (bid details)..."
      ]
     },
     "execution_count": 6,
     "metadata": {},
     "output_type": "execute_result"
    }
   ],
   "source": [
    "html_data[0].head()"
   ]
  },
  {
   "cell_type": "code",
   "execution_count": 7,
   "metadata": {},
   "outputs": [
    {
     "data": {
      "text/html": [
       "<div>\n",
       "<style scoped>\n",
       "    .dataframe tbody tr th:only-of-type {\n",
       "        vertical-align: middle;\n",
       "    }\n",
       "\n",
       "    .dataframe tbody tr th {\n",
       "        vertical-align: top;\n",
       "    }\n",
       "\n",
       "    .dataframe thead th {\n",
       "        text-align: right;\n",
       "    }\n",
       "</style>\n",
       "<table border=\"1\" class=\"dataframe\">\n",
       "  <thead>\n",
       "    <tr style=\"text-align: right;\">\n",
       "      <th></th>\n",
       "      <th>Rank</th>\n",
       "      <th>NOC</th>\n",
       "      <th>Gold</th>\n",
       "      <th>Silver</th>\n",
       "      <th>Bronze</th>\n",
       "      <th>Total</th>\n",
       "    </tr>\n",
       "  </thead>\n",
       "  <tbody>\n",
       "    <tr>\n",
       "      <th>0</th>\n",
       "      <td>1</td>\n",
       "      <td>United States (USA)</td>\n",
       "      <td>46</td>\n",
       "      <td>37</td>\n",
       "      <td>38</td>\n",
       "      <td>121</td>\n",
       "    </tr>\n",
       "    <tr>\n",
       "      <th>1</th>\n",
       "      <td>2</td>\n",
       "      <td>Great Britain (GBR)</td>\n",
       "      <td>27</td>\n",
       "      <td>23</td>\n",
       "      <td>17</td>\n",
       "      <td>67</td>\n",
       "    </tr>\n",
       "    <tr>\n",
       "      <th>2</th>\n",
       "      <td>3</td>\n",
       "      <td>China (CHN)</td>\n",
       "      <td>26</td>\n",
       "      <td>18</td>\n",
       "      <td>26</td>\n",
       "      <td>70</td>\n",
       "    </tr>\n",
       "    <tr>\n",
       "      <th>3</th>\n",
       "      <td>4</td>\n",
       "      <td>Russia (RUS)</td>\n",
       "      <td>19</td>\n",
       "      <td>17</td>\n",
       "      <td>20</td>\n",
       "      <td>56</td>\n",
       "    </tr>\n",
       "    <tr>\n",
       "      <th>4</th>\n",
       "      <td>5</td>\n",
       "      <td>Germany (GER)</td>\n",
       "      <td>17</td>\n",
       "      <td>10</td>\n",
       "      <td>15</td>\n",
       "      <td>42</td>\n",
       "    </tr>\n",
       "  </tbody>\n",
       "</table>\n",
       "</div>"
      ],
      "text/plain": [
       "  Rank                  NOC  Gold  Silver  Bronze  Total\n",
       "0    1  United States (USA)    46      37      38    121\n",
       "1    2  Great Britain (GBR)    27      23      17     67\n",
       "2    3          China (CHN)    26      18      26     70\n",
       "3    4         Russia (RUS)    19      17      20     56\n",
       "4    5        Germany (GER)    17      10      15     42"
      ]
     },
     "execution_count": 7,
     "metadata": {},
     "output_type": "execute_result"
    }
   ],
   "source": [
    "html_data[1].head()"
   ]
  },
  {
   "cell_type": "markdown",
   "metadata": {},
   "source": [
    "d) Extract the main table, “2016 Summer Olympics medal table”, and store it as a new Pandas DataFrame."
   ]
  },
  {
   "cell_type": "code",
   "execution_count": 8,
   "metadata": {},
   "outputs": [],
   "source": [
    "medal = pd.DataFrame(html_data[1])"
   ]
  },
  {
   "cell_type": "code",
   "execution_count": 9,
   "metadata": {},
   "outputs": [
    {
     "name": "stdout",
     "output_type": "stream",
     "text": [
      "                Rank                         NOC  Gold  Silver  Bronze  Total\n",
      "0                  1         United States (USA)    46      37      38    121\n",
      "1                  2         Great Britain (GBR)    27      23      17     67\n",
      "2                  3                 China (CHN)    26      18      26     70\n",
      "3                  4                Russia (RUS)    19      17      20     56\n",
      "4                  5               Germany (GER)    17      10      15     42\n",
      "..               ...                         ...   ...     ...     ...    ...\n",
      "82                78               Nigeria (NGR)     0       0       1      1\n",
      "83                78              Portugal (POR)     0       0       1      1\n",
      "84                78   Trinidad and Tobago (TTO)     0       0       1      1\n",
      "85                78  United Arab Emirates (UAE)     0       0       1      1\n",
      "86  Totals (86 NOCs)            Totals (86 NOCs)   307     307     359    973\n",
      "\n",
      "[87 rows x 6 columns]\n"
     ]
    }
   ],
   "source": [
    "print(medal)"
   ]
  },
  {
   "cell_type": "code",
   "execution_count": null,
   "metadata": {},
   "outputs": [],
   "source": [
    "e) Extract the TOP 20 countries from the medal table, as above, and store these rows as a new DataFrame."
   ]
  },
  {
   "cell_type": "code",
   "execution_count": 11,
   "metadata": {},
   "outputs": [],
   "source": [
    "medal20 = pd.DataFrame(medal.iloc[0:20])"
   ]
  },
  {
   "cell_type": "code",
   "execution_count": 12,
   "metadata": {},
   "outputs": [
    {
     "name": "stdout",
     "output_type": "stream",
     "text": [
      "   Rank                  NOC  Gold  Silver  Bronze  Total\n",
      "0     1  United States (USA)    46      37      38    121\n",
      "1     2  Great Britain (GBR)    27      23      17     67\n",
      "2     3          China (CHN)    26      18      26     70\n",
      "3     4         Russia (RUS)    19      17      20     56\n",
      "4     5        Germany (GER)    17      10      15     42\n",
      "5     6          Japan (JPN)    12       8      21     41\n",
      "6     7         France (FRA)    10      18      14     42\n",
      "7     8    South Korea (KOR)     9       3       9     21\n",
      "8     9          Italy (ITA)     8      12       8     28\n",
      "9    10      Australia (AUS)     8      11      10     29\n",
      "10   11    Netherlands (NED)     8       7       4     19\n",
      "11   12        Hungary (HUN)     8       3       4     15\n",
      "12   13        Brazil (BRA)*     7       6       6     19\n",
      "13   14          Spain (ESP)     7       4       6     17\n",
      "14   15          Kenya (KEN)     6       6       1     13\n",
      "15   16        Jamaica (JAM)     6       3       2     11\n",
      "16   17        Croatia (CRO)     5       3       2     10\n",
      "17   18           Cuba (CUB)     5       2       4     11\n",
      "18   19    New Zealand (NZL)     4       9       5     18\n",
      "19   20         Canada (CAN)     4       3      15     22\n"
     ]
    }
   ],
   "source": [
    "print(medal20)"
   ]
  },
  {
   "cell_type": "code",
   "execution_count": null,
   "metadata": {},
   "outputs": [],
   "source": []
  }
 ],
 "metadata": {
  "kernelspec": {
   "display_name": "Python 3",
   "language": "python",
   "name": "python3"
  },
  "language_info": {
   "codemirror_mode": {
    "name": "ipython",
    "version": 3
   },
   "file_extension": ".py",
   "mimetype": "text/x-python",
   "name": "python",
   "nbconvert_exporter": "python",
   "pygments_lexer": "ipython3",
   "version": "3.8.5"
  }
 },
 "nbformat": 4,
 "nbformat_minor": 4
}
